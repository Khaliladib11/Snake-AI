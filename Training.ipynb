{
 "cells": [
  {
   "cell_type": "markdown",
   "id": "9015d6ea",
   "metadata": {},
   "source": [
    "# Import Libraries"
   ]
  },
  {
   "cell_type": "code",
   "execution_count": 1,
   "id": "96a6a5c5",
   "metadata": {},
   "outputs": [
    {
     "name": "stdout",
     "output_type": "stream",
     "text": [
      "pygame 2.1.2 (SDL 2.0.18, Python 3.7.11)\n",
      "Hello from the pygame community. https://www.pygame.org/contribute.html\n"
     ]
    }
   ],
   "source": [
    "from src.Agent import Agent\n",
    "from src.Game import SnakeGameAI\n",
    "from src.helper import plot\n",
    "import os"
   ]
  },
  {
   "cell_type": "markdown",
   "id": "999f1b00",
   "metadata": {},
   "source": [
    "# Training"
   ]
  },
  {
   "cell_type": "code",
   "execution_count": null,
   "id": "61ab0b31",
   "metadata": {},
   "outputs": [
    {
     "data": {
      "text/plain": [
       "<Figure size 432x288 with 0 Axes>"
      ]
     },
     "metadata": {},
     "output_type": "display_data"
    },
    {
     "data": {
      "image/png": "[encoded data removed]",
      "text/plain": [
       "<Figure size 432x288 with 1 Axes>"
      ]
     },
     "metadata": {
      "needs_background": "light"
     },
     "output_type": "display_data"
    }
   ],
   "source": [
    "plot_scores = []\n",
    "plot_mean_scores = []\n",
    "total_score = 0\n",
    "record = 0\n",
    "epsilons = []\n",
    "game = SnakeGameAI(UI=False)\n",
    "agent = Agent(double_dqn=True, dueling_dqn=True, game=game)\n",
    "#agent.load_model('model.pth')\n",
    "\n",
    "episode = 0\n",
    "NUM_EPISODES = 2000\n",
    "while episode < NUM_EPISODES:\n",
    "    state = agent.get_observation()\n",
    "    action = agent.choose_action(state)\n",
    "    reward, done, score = agent.game.play_step(action)\n",
    "    new_state = agent.get_observation()\n",
    "    # remember\n",
    "    agent.remember(state, action, reward, new_state, done)\n",
    "              \n",
    "    if done:\n",
    "        episode += 1\n",
    "        # train long memory, plot result\n",
    "        agent.game.reset()\n",
    "          \n",
    "        states, actions, rewards, new_states, dones = agent.get_memory_sample()\n",
    "        agent.learn(states, actions, rewards, new_states, dones)\n",
    "\n",
    "        if score > record:\n",
    "            record = score\n",
    "            agent.save_model('model_double_dueling_dqn.pth')\n",
    "\n",
    "            \n",
    "\n",
    "        plot_scores.append(score)\n",
    "        total_score += score\n",
    "        mean_score = total_score / agent.number_episodes\n",
    "        plot_mean_scores.append(mean_score)\n",
    "        #print('Game', agent.n_games, 'Score', score, 'Record:', record, 'Mean Score: ', mean_score)\n",
    "        plot(plot_scores,plot_mean_scores)\n",
    "            \n",
    "\n",
    "\n",
    "agent.game.end_game()"
   ]
  }
 ],
 "metadata": {
  "kernelspec": {
   "display_name": "Python [conda env:ailab] *",
   "language": "python",
   "name": "conda-env-ailab-py"
  },
  "language_info": {
   "codemirror_mode": {
    "name": "ipython",
    "version": 3
   },
   "file_extension": ".py",
   "mimetype": "text/x-python",
   "name": "python",
   "nbconvert_exporter": "python",
   "pygments_lexer": "ipython3",
   "version": "3.7.11"
  }
 },
 "nbformat": 4,
 "nbformat_minor": 5
}
